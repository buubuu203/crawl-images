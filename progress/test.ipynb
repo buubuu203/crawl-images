{
 "cells": [
  {
   "cell_type": "code",
   "execution_count": null,
   "metadata": {},
   "outputs": [],
   "source": [
    "!pip install beautifulsoup4\n",
    "!pip install requests\n",
    "!pip install selenium\n",
    "!pip install pandas"
   ]
  },
  {
   "cell_type": "markdown",
   "metadata": {},
   "source": [
    "## Crawl captions and images from https://www.reddit.com/r/progresspics/"
   ]
  },
  {
   "cell_type": "code",
   "execution_count": null,
   "metadata": {},
   "outputs": [],
   "source": [
    "import requests\n",
    "from bs4 import BeautifulSoup\n",
    "from selenium import webdriver\n",
    "import time\n",
    "import os\n",
    "import pandas as pd\n",
    "\n",
    "# Function to create a directory to store images\n",
    "def create_directory(directory):\n",
    "    if not os.path.exists(directory):\n",
    "        os.makedirs(directory)\n",
    "\n",
    "# Function to download an image from URL and save it to the directory\n",
    "def download_image(url, filename, directory):\n",
    "    response = requests.get(url)\n",
    "    with open(os.path.join(directory, filename), 'wb') as f:\n",
    "        f.write(response.content)\n",
    "\n",
    "# Initialize the Selenium web driver\n",
    "driver = webdriver.Chrome()\n",
    "\n",
    "# URL of the Reddit page\n",
    "url = \"https://www.reddit.com/r/progresspics/\"\n",
    "\n",
    "# Open the web page using Selenium web driver\n",
    "driver.get(url)\n",
    "\n",
    "# Function to scroll down the page to load more images\n",
    "def scroll_down_page(driver):\n",
    "    # Scroll down to the bottom of the page\n",
    "    driver.execute_script(\"window.scrollTo(0, document.body.scrollHeight);\")\n",
    "    time.sleep(2)  # Wait for 2 seconds after scrolling\n",
    "\n",
    "# Initialize variables\n",
    "image_counter = 0\n",
    "error_counter = 0\n",
    "max_errors = 5  # Maximum consecutive errors allowed\n",
    "max_scroll_attempts = 10  # Maximum attempts to scroll down\n",
    "\n",
    "# Scroll down the page multiple times to load more images\n",
    "while error_counter < max_errors:\n",
    "    # Attempt to scroll down the page\n",
    "    for _ in range(max_scroll_attempts):\n",
    "        scroll_down_page(driver)\n",
    "        time.sleep(2)  # Wait for 2 seconds after scrolling\n",
    "\n",
    "        # Get the HTML source of the page\n",
    "        html_source = driver.page_source\n",
    "        # Parse HTML using BeautifulSoup\n",
    "        soup = BeautifulSoup(html_source, 'html.parser')\n",
    "        # Find all 'img' tags in HTML\n",
    "        image_tags = soup.find_all('img', class_='media-lightbox-img')\n",
    "\n",
    "        # Check if new images have been loaded\n",
    "        new_image_counter = len(image_tags)\n",
    "        if new_image_counter > image_counter:\n",
    "            image_counter = new_image_counter\n",
    "            error_counter = 0  # Reset error counter\n",
    "            break\n",
    "    else:\n",
    "        error_counter += 1  # Increment error counter if no new images are loaded after multiple attempts\n",
    "\n",
    "# Directory to store images\n",
    "image_directory = 'progress_pics'\n",
    "create_directory(image_directory)\n",
    "\n",
    "# Lists to store image URLs and captions\n",
    "image_names = []\n",
    "captions = []\n",
    "\n",
    "# Loop through each 'img' tag to get the URL and download the image\n",
    "for i, tag in enumerate(image_tags):\n",
    "    try:\n",
    "        if 'src' in tag.attrs:  # Check if the 'src' attribute exists\n",
    "            img_url = tag['src']\n",
    "            img_name = f\"image_{i+1}.jpg\"  # Assign a unique name to each image\n",
    "            download_image(img_url, img_name, image_directory)\n",
    "            image_names.append(img_name)\n",
    "            caption = tag.get('alt', '')  # Get the alt text of the image (caption)\n",
    "            captions.append(caption)\n",
    "            print(f\"Image {i+1} downloaded successfully!\")\n",
    "        else:\n",
    "            print(f\"Image {i+1} does not have 'src' attribute!\")\n",
    "    except Exception as e:\n",
    "        print(f\"Error downloading image {i+1}: {str(e)}\")\n",
    "\n",
    "# Print the number of images downloaded\n",
    "print(f\"Total images downloaded: {len(image_names)}\")\n",
    "\n",
    "# Close the web browser\n",
    "driver.quit()\n",
    "\n",
    "# Create a DataFrame\n",
    "df = pd.DataFrame({'Image_Name': image_names, 'Caption': captions})\n",
    "\n",
    "# Save the DataFrame to a CSV file\n",
    "df.to_csv('image_data.csv', index=False)\n",
    "\n",
    "print(\"CSV file created successfully!\")\n"
   ]
  },
  {
   "cell_type": "markdown",
   "metadata": {},
   "source": [
    "## Edit Caption"
   ]
  },
  {
   "cell_type": "code",
   "execution_count": 23,
   "metadata": {},
   "outputs": [
    {
     "name": "stdout",
     "output_type": "stream",
     "text": [
      "Caption column deleted successfully!\n"
     ]
    }
   ],
   "source": [
    "import pandas as pd\n",
    "\n",
    "# Load the CSV file into a DataFrame\n",
    "df = pd.read_csv('image_data.csv')\n",
    "\n",
    "# Function to clean the caption\n",
    "def clean_caption(caption):\n",
    "    parts = caption.split('-')\n",
    "    if len(parts) > 1:\n",
    "        return parts[-1].strip()\n",
    "    return caption\n",
    "\n",
    "# Apply the function to clean the captions and replace the 'Caption' column\n",
    "df['Caption'] = df['Caption'].apply(clean_caption)\n",
    "\n",
    "# Drop the 'Caption' column\n",
    "df.drop(columns=['Caption'], inplace=True)\n",
    "\n",
    "# Save the DataFrame back to the same CSV file\n",
    "df.to_csv('image_data.csv', index=False)\n",
    "\n",
    "print(\"Caption column deleted successfully!\")\n"
   ]
  },
  {
   "cell_type": "markdown",
   "metadata": {},
   "source": [
    "## Split captions into Sex, Age, Height and Weight"
   ]
  },
  {
   "cell_type": "code",
   "execution_count": 28,
   "metadata": {},
   "outputs": [
    {
     "name": "stdout",
     "output_type": "stream",
     "text": [
      "CSV file created successfully!\n"
     ]
    }
   ],
   "source": [
    "import pandas as pd\n",
    "\n",
    "# Load the CSV file into a DataFrame\n",
    "df = pd.read_csv('image_data.csv')\n",
    "\n",
    "# Function to extract gender from caption\n",
    "def extract_gender(caption):\n",
    "    return caption.split('/')[0]\n",
    "\n",
    "# Function to extract age from caption\n",
    "def extract_age(caption):\n",
    "    try:\n",
    "        return caption.split('/')[1].split(' ')[0]\n",
    "    except IndexError:\n",
    "        return None\n",
    "\n",
    "def extract_height(caption):\n",
    "    parts = caption.split('/')\n",
    "    if len(parts) > 2:\n",
    "        height_str = parts[2].strip().split('[')[0].split()[0]  # Lấy phần tử đầu tiên sau khi split theo khoảng trắng và trước dấu '['\n",
    "        return height_str\n",
    "    return None\n",
    "\n",
    "\n",
    "# Function to extract weight from caption\n",
    "def extract_weight(caption):\n",
    "    weight = None\n",
    "    # Find the substring within square brackets\n",
    "    start_index = caption.find('>')\n",
    "    end_index = caption.find('=')\n",
    "    if start_index != -1:\n",
    "        if end_index != -1:\n",
    "            weight_str = caption[start_index+1:end_index].strip()\n",
    "        else:\n",
    "            weight_str = caption[start_index+1:].strip()\n",
    "        if weight_str:\n",
    "            # Extract the numbers after '>'\n",
    "            weight_str = weight_str.split()[0]  # Lấy số đầu tiên sau dấu space\n",
    "            weight_str = weight_str.replace('lbs', '')  # Loại bỏ từ 'lbs'\n",
    "            if weight_str.isdigit():\n",
    "                weight = int(weight_str)\n",
    "    return weight\n",
    "\n",
    "\n",
    "# Apply the functions to create new columns\n",
    "df['Gender'] = df['Cleaned_Caption'].apply(extract_gender)\n",
    "df['Age'] = df['Cleaned_Caption'].apply(extract_age)\n",
    "df['Height'] = df['Cleaned_Caption'].apply(extract_height)\n",
    "df['Weight'] = df['Cleaned_Caption'].apply(extract_weight)\n",
    "\n",
    "# Save the DataFrame to a new CSV file\n",
    "df.to_csv('new_image_data.csv', index=False)\n",
    "\n",
    "print(\"CSV file created successfully!\")\n"
   ]
  },
  {
   "cell_type": "markdown",
   "metadata": {},
   "source": [
    "## Caculate BMI"
   ]
  },
  {
   "cell_type": "code",
   "execution_count": 31,
   "metadata": {},
   "outputs": [
    {
     "name": "stdout",
     "output_type": "stream",
     "text": [
      "CSV file updated with BMI successfully!\n"
     ]
    }
   ],
   "source": [
    "import pandas as pd\n",
    "\n",
    "# Load the CSV file into a DataFrame\n",
    "df = pd.read_csv('new_image_data.csv')\n",
    "\n",
    "# Function to convert height from feet and inches to meters\n",
    "def convert_height_to_meters(height):\n",
    "    if pd.isnull(height):\n",
    "        return None\n",
    "    if \"'\" in height or \"’\" in height:\n",
    "        height_parts = height.replace(\"’\", \"'\").split(\"'\")  # Thay dấu ’ thành ' và split theo dấu '\n",
    "        feet = float(height_parts[0])\n",
    "        if len(height_parts) > 1:\n",
    "            inches_str = height_parts[1].replace(\"\\\"\", \"\").strip()  # Xóa dấu \" và khoảng trắng\n",
    "            if inches_str.isdigit():\n",
    "                inches = float(inches_str)\n",
    "            else:\n",
    "                inches = 0.0\n",
    "        else:\n",
    "            inches = 0.0\n",
    "        total_inches = feet * 12 + inches\n",
    "        height_meters = total_inches * 0.0254  # Convert inches to meters\n",
    "        return height_meters\n",
    "    else:\n",
    "        return None\n",
    "\n",
    "\n",
    "# Function to calculate BMI\n",
    "def calculate_bmi(height, weight):\n",
    "    if height is not None and weight is not None:\n",
    "        height_m = convert_height_to_meters(height)\n",
    "        weight_kg = weight * 0.453592  # Convert weight from lbs to kg\n",
    "        if height_m:\n",
    "            bmi = weight_kg / (height_m ** 2)  # Calculate BMI\n",
    "            return round(bmi, 2)  # Round BMI to 2 decimal places\n",
    "    return None\n",
    "\n",
    "# Calculate BMI and add a new column 'BMI'\n",
    "df['BMI'] = df.apply(lambda row: calculate_bmi(row['Height'], row['Weight']), axis=1)\n",
    "\n",
    "\n",
    "# Save the DataFrame to the same CSV file, overwriting it\n",
    "df.to_csv('new_image_data.csv', index=False)\n",
    "\n",
    "print(\"CSV file updated with BMI successfully!\")\n"
   ]
  },
  {
   "cell_type": "markdown",
   "metadata": {},
   "source": [
    "## Category "
   ]
  },
  {
   "cell_type": "code",
   "execution_count": 32,
   "metadata": {},
   "outputs": [
    {
     "name": "stdout",
     "output_type": "stream",
     "text": [
      "CSV file updated with BMI classification successfully!\n"
     ]
    }
   ],
   "source": [
    "# Function to classify BMI based on gender\n",
    "def classify_bmi_with_gender(bmi, gender):\n",
    "    if bmi is not None and gender is not None:\n",
    "        if gender == 'M':\n",
    "            if bmi < 18.5:\n",
    "                return 'Underweight'\n",
    "            elif 18.5 <= bmi < 24.9:\n",
    "                return 'Normal weight'\n",
    "            elif 24.9 <= bmi < 29.9:\n",
    "                return 'Overweight'\n",
    "            else:\n",
    "                return 'Obese'\n",
    "        elif gender == 'F':\n",
    "            if bmi < 18.5:\n",
    "                return 'Underweight'\n",
    "            elif 18.5 <= bmi < 24.9:\n",
    "                return 'Normal weight'\n",
    "            elif 24.9 <= bmi < 29.9:\n",
    "                return 'Overweight'\n",
    "            else:\n",
    "                return 'Obese'\n",
    "    return None\n",
    "\n",
    "# Apply the function to create a new column 'BMI Classification with Gender'\n",
    "df['BMI Classification with Gender'] = df.apply(lambda row: classify_bmi_with_gender(row['BMI'], row['Gender']), axis=1)\n",
    "\n",
    "\n",
    "# Save the DataFrame to the same CSV file, overwriting it\n",
    "df.to_csv('new_image_data.csv', index=False)\n",
    "\n",
    "print(\"CSV file updated with BMI classification successfully!\")\n",
    "\n"
   ]
  }
 ],
 "metadata": {
  "kernelspec": {
   "display_name": "Python 3",
   "language": "python",
   "name": "python3"
  },
  "language_info": {
   "codemirror_mode": {
    "name": "ipython",
    "version": 3
   },
   "file_extension": ".py",
   "mimetype": "text/x-python",
   "name": "python",
   "nbconvert_exporter": "python",
   "pygments_lexer": "ipython3",
   "version": "3.12.0"
  }
 },
 "nbformat": 4,
 "nbformat_minor": 2
}
